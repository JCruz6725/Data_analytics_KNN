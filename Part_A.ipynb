{
 "cells": [
  {
   "cell_type": "code",
   "execution_count": 1,
   "id": "3a647d58",
   "metadata": {},
   "outputs": [],
   "source": [
    "import matplotlib\n",
    "import matplotlib.pyplot as plt\n",
    "import seaborn as sns\n",
    "import numpy as np\n",
    "import pandas as pd\n",
    "#import sklearn"
   ]
  },
  {
   "cell_type": "code",
   "execution_count": 2,
   "id": "31710530",
   "metadata": {},
   "outputs": [],
   "source": [
    "pd_flow_patterns = pd.read_csv(\"BD12Experiments6FP.csv\")\n"
   ]
  },
  {
   "cell_type": "code",
   "execution_count": 3,
   "id": "1ee49811",
   "metadata": {},
   "outputs": [
    {
     "name": "stdout",
     "output_type": "stream",
     "text": [
      "<bound method DataFrame.info of           Vsl       Vsg     VisL     VisG    DenL  DenG     ST  Ang      ID  \\\n",
      "0     0.04482   0.81402  0.00100  0.00007  1000.0  1.12  0.070  0.0  0.0254   \n",
      "1     0.06098   0.81402  0.00100  0.00007  1000.0  1.12  0.070  0.0  0.0254   \n",
      "2     0.08811   0.81402  0.00100  0.00007  1000.0  1.12  0.070  0.0  0.0254   \n",
      "3     0.06098   1.10366  0.00100  0.00007  1000.0  1.12  0.070  0.0  0.0254   \n",
      "4     0.12195   1.10366  0.00100  0.00007  1000.0  1.12  0.070  0.0  0.0254   \n",
      "...       ...       ...      ...      ...     ...   ...    ...  ...     ...   \n",
      "9024  1.75000   0.55000  0.17906  0.00001   872.4  2.10  0.032  0.0  0.0508   \n",
      "9025  1.75000   0.99000  0.17906  0.00001   870.2  2.11  0.032  0.0  0.0508   \n",
      "9026  1.73000   1.51000  0.17964  0.00001   870.4  2.16  0.032  0.0  0.0508   \n",
      "9027  1.74000   2.00000  0.17964  0.00001   870.7  2.22  0.032  0.0  0.0508   \n",
      "9028  1.68000  10.70000  0.18143  0.00001   866.3  3.30  0.032  0.0  0.0508   \n",
      "\n",
      "      FlowPattern  \n",
      "0               3  \n",
      "1               5  \n",
      "2               5  \n",
      "3               5  \n",
      "4               5  \n",
      "...           ...  \n",
      "9024            5  \n",
      "9025            5  \n",
      "9026            5  \n",
      "9027            5  \n",
      "9028            5  \n",
      "\n",
      "[9029 rows x 10 columns]>\n"
     ]
    }
   ],
   "source": [
    "print (pd_flow_patterns.info)"
   ]
  },
  {
   "cell_type": "code",
   "execution_count": 4,
   "id": "37197143",
   "metadata": {},
   "outputs": [
    {
     "name": "stdout",
     "output_type": "stream",
     "text": [
      "               Vsl          Vsg         VisL         VisG         DenL  \\\n",
      "count  9029.000000  9029.000000  9029.000000  9029.000000  9029.000000   \n",
      "mean      0.786837     5.894700     0.012334     0.000017   951.239041   \n",
      "std       1.282596    10.415176     0.066958     0.000009   109.882425   \n",
      "min       0.000240     0.003720     0.000010     0.000000    77.041600   \n",
      "25%       0.045640     0.173660     0.001000     0.000010   879.400000   \n",
      "50%       0.210810     1.581710     0.001000     0.000020  1000.000000   \n",
      "75%       1.000000     7.469510     0.003220     0.000020  1000.000000   \n",
      "max      25.517000   200.609760     0.601280     0.000070  1059.000000   \n",
      "\n",
      "              DenG           ST          Ang           ID  FlowPattern  \n",
      "count  9029.000000  9029.000000  9029.000000  9029.000000  9029.000000  \n",
      "mean      4.136893     3.234937     3.609715     0.047157     4.052608  \n",
      "std       8.681986    22.233329    38.746648     0.026143     1.365682  \n",
      "min       0.125410     0.013400   -90.000000     0.008740     1.000000  \n",
      "25%       1.800000     0.032000    -1.000000     0.025000     3.000000  \n",
      "50%       1.800000     0.070000     0.250000     0.051000     5.000000  \n",
      "75%       4.134000     0.070000    10.000000     0.051000     5.000000  \n",
      "max     102.500000   238.070000    90.000000     0.189000     7.000000  \n"
     ]
    }
   ],
   "source": [
    "print(pd_flow_patterns.describe())"
   ]
  },
  {
   "cell_type": "code",
   "execution_count": 5,
   "id": "e4d752fb",
   "metadata": {
    "scrolled": true
   },
   "outputs": [],
   "source": [
    "from sklearn.model_selection import train_test_split\n",
    "\n",
    "X = pd_flow_patterns.drop(columns = \"FlowPattern\")\n",
    "\n",
    "y = pd_flow_patterns.FlowPattern\n",
    "\n",
    "X_train, X_test, y_train, y_test = train_test_split(X, y, test_size = 0.20, random_state = 42) #only test 20%\n"
   ]
  },
  {
   "cell_type": "code",
   "execution_count": 6,
   "id": "8e901916",
   "metadata": {},
   "outputs": [
    {
     "name": "stdout",
     "output_type": "stream",
     "text": [
      "accu:  0.8366555924695459\n"
     ]
    }
   ],
   "source": [
    "from sklearn.neighbors import KNeighborsClassifier\n",
    "from sklearn.metrics import confusion_matrix\n",
    "knn = KNeighborsClassifier(n_neighbors = 7).fit(X_train, y_train)\n",
    " \n",
    "# accuracy on X_test\n",
    "accuracy = knn.score(X_test, y_test)\n",
    "print (\"accu: \",  accuracy)\n",
    " \n",
    "# creating a confusion matrix\n",
    "knn_predictions = knn.predict(X_test)\n",
    "cm = confusion_matrix(y_test, knn_predictions)\n"
   ]
  },
  {
   "cell_type": "code",
   "execution_count": 7,
   "id": "afc0aa18",
   "metadata": {},
   "outputs": [
    {
     "data": {
      "image/png": "[encoded data removed]",
      "text/plain": [
       "<Figure size 720x576 with 2 Axes>"
      ]
     },
     "metadata": {
      "needs_background": "light"
     },
     "output_type": "display_data"
    }
   ],
   "source": [
    "import seaborn as sns\n",
    "\n",
    "plt.figure(figsize=(10,8))\n",
    "sns.heatmap(cm, annot=True, fmt=\"g\")\n",
    "plt.title('Confusion Matrix')\n",
    "plt.ylabel('Actual Values FlowPattern')\n",
    "plt.xlabel('Predicted Values FlowPattern')\n",
    "plt.show()"
   ]
  },
  {
   "cell_type": "code",
   "execution_count": null,
   "id": "44033b60",
   "metadata": {},
   "outputs": [],
   "source": []
  }
 ],
 "metadata": {
  "kernelspec": {
   "display_name": "Python 3",
   "language": "python",
   "name": "python3"
  },
  "language_info": {
   "codemirror_mode": {
    "name": "ipython",
    "version": 3
   },
   "file_extension": ".py",
   "mimetype": "text/x-python",
   "name": "python",
   "nbconvert_exporter": "python",
   "pygments_lexer": "ipython3",
   "version": "3.8.8"
  }
 },
 "nbformat": 4,
 "nbformat_minor": 5
}
